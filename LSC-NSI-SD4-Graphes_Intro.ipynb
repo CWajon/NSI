{
 "cells": [
  {
   "cell_type": "markdown",
   "metadata": {},
   "source": [
    "# Introduction\n",
    "\n",
    "Nous avons vu ce matin des situations dont la résolution pouvait se faire en modélisant le problème sous forme de graphes. Nous revenons ici sur la notion de graphe afin de :\n",
    "\n",
    "- fixer le vocabulaire\n",
    "- manipuler une bibliothèque de gestion de graphes : [networkX](https://networkx.github.io/) - [`networkx.github.io/`](https://networkx.github.io/)"
   ]
  },
  {
   "cell_type": "markdown",
   "metadata": {},
   "source": [
    "# Partie I : vocabulaire, introduction à NetworkX\n",
    "\n",
    "## Graphes non orientés\n",
    "\n",
    "Voici un graphe :\n",
    "\n",
    "![](fig/graphe_non_oriente.png)\n",
    "\n",
    "Ce graphe est constitué de :\n",
    "- 4 _sommets_ (étiquetés 1, 2, 3, 4)\n",
    "- 5 _arêtes_ qui relient des couples de sommets\n",
    "\n",
    "Deux sommets reliés par une arête sont _adjacents_.\n",
    "\n",
    "Remarquez qu'un sommet peut ne être relié à aucun autre par une arête."
   ]
  },
  {
   "cell_type": "markdown",
   "metadata": {},
   "source": [
    "Nous allons construire ce graphe avec la bibliothèque NetworkX :\n",
    "\n",
    "- on importe le module,\n",
    "- on crée un graphe vide,\n",
    "- on ajoute les sommets (appelés *node*),\n",
    "- et enfin les arêtes (appelées *edge*).\n",
    "\n",
    "(nous verrons plus loin d'autres façons de construire des graphes avec NetworkX)"
   ]
  },
  {
   "cell_type": "code",
   "execution_count": 3,
   "metadata": {
    "collapsed": true
   },
   "outputs": [],
   "source": [
    "import networkx as nx"
   ]
  },
  {
   "cell_type": "code",
   "execution_count": null,
   "metadata": {
    "collapsed": true
   },
   "outputs": [],
   "source": []
  },
  {
   "cell_type": "code",
   "execution_count": 13,
   "metadata": {
    "collapsed": true
   },
   "outputs": [],
   "source": [
    "g1 = nx.Graph()"
   ]
  },
  {
   "cell_type": "code",
   "execution_count": 14,
   "metadata": {
    "collapsed": true
   },
   "outputs": [],
   "source": [
    "g1.add_node(1)\n",
    "g1.add_node(2)\n",
    "g1.add_node(3)\n",
    "g1.add_node(4)"
   ]
  },
  {
   "cell_type": "code",
   "execution_count": 15,
   "metadata": {
    "collapsed": true
   },
   "outputs": [],
   "source": [
    "g1.add_edge(1,2)\n",
    "g1.add_edge(1,3)\n",
    "g1.add_edge(1,4)\n",
    "g1.add_edge(2,3)\n",
    "g1.add_edge(2,4)\n",
    "g1.add_edge(2,4)"
   ]
  },
  {
   "cell_type": "markdown",
   "metadata": {},
   "source": [
    "On peut visualiser le graphe grâce à `matplotlib`et la fonction `draw`. Ici on a de plus configuré l'affichage pour que les étiquettes des sommets soient affichées, la taille des sommets soit de 800, la couleur de fond des sommets gris clair. Si on effectue l'affichage en dehors d'un notebook, il ne faut pas oublier l'instruction `plt.show()`."
   ]
  },
  {
   "cell_type": "code",
   "execution_count": 16,
   "metadata": {
    "collapsed": true
   },
   "outputs": [],
   "source": [
    "import matplotlib.pyplot as plt"
   ]
  },
  {
   "cell_type": "code",
   "execution_count": 17,
   "metadata": {},
   "outputs": [
    {
     "name": "stderr",
     "output_type": "stream",
     "text": [
      "C:\\EduPython\\App\\lib\\site-packages\\networkx\\drawing\\nx_pylab.py:126: MatplotlibDeprecationWarning: pyplot.hold is deprecated.\n",
      "    Future behavior will be consistent with the long-time default:\n",
      "    plot commands add elements without first clearing the\n",
      "    Axes and/or Figure.\n",
      "  b = plt.ishold()\n",
      "C:\\EduPython\\App\\lib\\site-packages\\networkx\\drawing\\nx_pylab.py:522: MatplotlibDeprecationWarning: The is_string_like function was deprecated in version 2.1.\n",
      "  if not cb.is_string_like(edge_color) \\\n",
      "C:\\EduPython\\App\\lib\\site-packages\\networkx\\drawing\\nx_pylab.py:543: MatplotlibDeprecationWarning: The is_string_like function was deprecated in version 2.1.\n",
      "  if cb.is_string_like(edge_color) or len(edge_color) == 1:\n",
      "C:\\EduPython\\App\\lib\\site-packages\\networkx\\drawing\\nx_pylab.py:724: MatplotlibDeprecationWarning: The is_string_like function was deprecated in version 2.1.\n",
      "  if not cb.is_string_like(label):\n",
      "C:\\EduPython\\App\\lib\\site-packages\\networkx\\drawing\\nx_pylab.py:138: MatplotlibDeprecationWarning: pyplot.hold is deprecated.\n",
      "    Future behavior will be consistent with the long-time default:\n",
      "    plot commands add elements without first clearing the\n",
      "    Axes and/or Figure.\n",
      "  plt.hold(b)\n",
      "C:\\EduPython\\App\\lib\\site-packages\\matplotlib\\__init__.py:910: MatplotlibDeprecationWarning: axes.hold is deprecated. Please remove it from your matplotlibrc and/or style files.\n",
      "  mplDeprecation)\n",
      "C:\\EduPython\\App\\lib\\site-packages\\matplotlib\\rcsetup.py:156: MatplotlibDeprecationWarning: axes.hold is deprecated, will be removed in 3.0\n",
      "  mplDeprecation)\n"
     ]
    }
   ],
   "source": [
    "nx.draw(g1, with_labels=True, font_weight='bold', node_size=800, node_color='lightgrey')"
   ]
  },
  {
   "cell_type": "markdown",
   "metadata": {},
   "source": [
    "Le _degré_ d'un sommet est le nombre d'extrêmités d'arêtes qui\n",
    "touchent ce sommet (on parle d'arêtes _incidentes_).\n",
    "\n",
    "Les _voisins_ d'un sommet $x$ sont les sommets $y$ tels qu'il existe une arête entre $x$ et $y$."
   ]
  },
  {
   "cell_type": "markdown",
   "metadata": {},
   "source": [
    "La documentation de NetworkX est divisée en sections. Il existe notamment :\n",
    "\n",
    "- une section pour obtenir les méthodes [sur les sommets et les arêtes](https://networkx.github.io/documentation/stable/reference/functions.html),\n",
    "- une section pour obtenir les [algorithmes disponibles](https://networkx.github.io/documentation/stable/reference/algorithms/index.html).\n",
    "\n",
    "On pourra consulter (plus tard) le [tutoriel de NetworkX](https://networkx.github.io/documentation/stable/tutorial.html)."
   ]
  },
  {
   "cell_type": "markdown",
   "metadata": {},
   "source": [
    "**À faire.** Avec NetworkX, cherchez les méthodes pour obtenir les informations suivantes :\n",
    "\n",
    "- le nombre de sommets du graphe\n",
    "- le nombre d'arêtes du graphe\n",
    "- le degré du sommet 1\n",
    "- le degré du sommet 2\n",
    "- les voisins du sommet 1\n",
    "\n",
    "et expérimentez."
   ]
  },
  {
   "cell_type": "code",
   "execution_count": null,
   "metadata": {
    "collapsed": true
   },
   "outputs": [],
   "source": []
  },
  {
   "cell_type": "code",
   "execution_count": null,
   "metadata": {
    "collapsed": true
   },
   "outputs": [],
   "source": []
  },
  {
   "cell_type": "code",
   "execution_count": null,
   "metadata": {
    "collapsed": true
   },
   "outputs": [],
   "source": []
  },
  {
   "cell_type": "code",
   "execution_count": null,
   "metadata": {
    "collapsed": true
   },
   "outputs": [],
   "source": []
  },
  {
   "cell_type": "code",
   "execution_count": null,
   "metadata": {
    "collapsed": true
   },
   "outputs": [],
   "source": []
  },
  {
   "cell_type": "markdown",
   "metadata": {},
   "source": [
    "## Graphes orientés\n",
    "\n",
    "Contrairement au graphe précédent, le graphe :\n",
    "\n",
    "![](fig/graphe_oriente.png)\n",
    "\n",
    "comporte des \"arêtes avec une flèche\" : on parle alors d'_arc_. Le\n",
    "graphe est dit _orienté_. On distingue le sommet _source_ (on dit\n",
    "aussi _origine_) de l'arc du sommet _but_ de l'arc."
   ]
  },
  {
   "cell_type": "markdown",
   "metadata": {},
   "source": [
    "Remarquez que NetworkX utilise le même vocabulaire pour désigner arcs et arêtes : _edge_. En anglais, pour désigner des arcs, on utilisera le vocabulaire _directed edge_ mais cette distinction est rarement faite car dès que l'on sait qu'on parle de graphe oreinté alors il n'y a pas d'ambiguïté dans le mot _edge_ (bien sûr le sens de lecture a de l'importance, _an edge between a and b_ ne veut pas dire la même chose que _an edge between b and a_. \n",
    "\n",
    "Dans NetworkX la distinction se fait à la construction du graphe, où le type est choisi : c'est un objet `DiGraph` (directed graph) au lieu d'un objet `Graph` (voir la documention [sur  les types de graphes](https://networkx.github.io/documentation/stable/reference/classes/index.html)). \n",
    "\n",
    "Par exemple pour construire le graphe orienté ci-dessus :"
   ]
  },
  {
   "cell_type": "code",
   "execution_count": 7,
   "metadata": {},
   "outputs": [
    {
     "data": {
      "image/png": "[encoded data removed]",
      "text/plain": [
       "<Figure size 432x288 with 1 Axes>"
      ]
     },
     "metadata": {},
     "output_type": "display_data"
    }
   ],
   "source": [
    "g2 = nx.DiGraph()\n",
    "g2.add_node('a')\n",
    "g2.add_node('b')\n",
    "g2.add_node('c')\n",
    "g2.add_node('d')\n",
    "g2.add_edge('a','b')\n",
    "g2.add_edge('a','c')\n",
    "g2.add_edge('d','a')\n",
    "nx.draw(g2, with_labels=True, font_weight='bold', node_size=800, node_color='lightgrey',arrowsize=20)"
   ]
  },
  {
   "cell_type": "markdown",
   "metadata": {},
   "source": [
    "Pour savoir si un graphe est orienté ou non, on peut utiliser le prédicat suivant :"
   ]
  },
  {
   "cell_type": "code",
   "execution_count": 8,
   "metadata": {},
   "outputs": [
    {
     "data": {
      "text/plain": [
       "False"
      ]
     },
     "execution_count": 8,
     "metadata": {},
     "output_type": "execute_result"
    }
   ],
   "source": [
    "g1.is_directed()"
   ]
  },
  {
   "cell_type": "code",
   "execution_count": 9,
   "metadata": {},
   "outputs": [
    {
     "data": {
      "text/plain": [
       "True"
      ]
     },
     "execution_count": 9,
     "metadata": {},
     "output_type": "execute_result"
    }
   ],
   "source": [
    "g2.is_directed()"
   ]
  },
  {
   "cell_type": "markdown",
   "metadata": {},
   "source": [
    "Alors qu'on ne parlait que de voisins dans un graphe non orienté, on distinguera ici :\n",
    "- les _successeurs_ d'un sommet $x$ sont les sommets $y$ tels qu'il existe un arc entre $x$ et $y$,\n",
    "- les _prédécesseurs_ d'un sommet $x$ sont les sommets $y$ tels qu'il existe un arc entre $y$ et $x$."
   ]
  },
  {
   "cell_type": "markdown",
   "metadata": {},
   "source": [
    "**À faire.** Trouver les méthodes de NetworkX permettant d'identifier les successeurs et prédecesseurs d'un sommet. Expérimenter sur les sommets de g2."
   ]
  },
  {
   "cell_type": "code",
   "execution_count": null,
   "metadata": {
    "collapsed": true
   },
   "outputs": [],
   "source": []
  },
  {
   "cell_type": "markdown",
   "metadata": {},
   "source": [
    "**À faire.** Que se passe-t-il si on demande les successeurs/prédecesseurs d'un sommet d'un graphe non orienté."
   ]
  },
  {
   "cell_type": "code",
   "execution_count": null,
   "metadata": {
    "collapsed": true
   },
   "outputs": [],
   "source": []
  },
  {
   "cell_type": "markdown",
   "metadata": {},
   "source": [
    "**Remarque** Sur un graphe orienté, la méthode `neighbors` vue précédemment ne fournit que la liste des successeurs."
   ]
  },
  {
   "cell_type": "code",
   "execution_count": 10,
   "metadata": {},
   "outputs": [
    {
     "data": {
      "text/plain": [
       "['b', 'c']"
      ]
     },
     "execution_count": 10,
     "metadata": {},
     "output_type": "execute_result"
    }
   ],
   "source": [
    "list(g2.neighbors('a'))"
   ]
  },
  {
   "cell_type": "markdown",
   "metadata": {},
   "source": [
    "Si l'on veut tous les voisins il faut utiliser la fonction `all_neighbors`."
   ]
  },
  {
   "cell_type": "code",
   "execution_count": 11,
   "metadata": {},
   "outputs": [
    {
     "data": {
      "text/plain": [
       "['d', 'b', 'c']"
      ]
     },
     "execution_count": 11,
     "metadata": {},
     "output_type": "execute_result"
    }
   ],
   "source": [
    "list(nx.all_neighbors(g2,'a'))"
   ]
  },
  {
   "cell_type": "markdown",
   "metadata": {},
   "source": [
    "On distingue également :\n",
    "- le _degré entrant_ d'un sommet égal au nombre d'arcs dont le but est ce sommet (i.e. le nombre de prédécesseurs),\n",
    "- le _degré sortant_ d'un sommet égal au nombre d'arcs dont la source est ce sommet (i.e. le nombre de successeurs),\n",
    "- le degré d'un sommet est égal à la somme des deux précédents"
   ]
  },
  {
   "cell_type": "markdown",
   "metadata": {},
   "source": [
    "## Graphes valués (hors NSI)\n",
    "\n",
    "Comme pour les arbres, on peut associer aux sommets, tout comme aux\n",
    "arêtes (ou aux arcs) des étiquettes. Souvent l'étiquette associée à un arc ou une arête représente un poids. On peut ainsi modéliser des liens de natures différentes entre les sommets d'un graphe (par exemple j'ai deux routes de longueurs différentes pour rejoindre deux villes).\n",
    "\n",
    "Cela permet d'avoir des chemins de poids différents entre des sommets quelconques du graphe, le poids d'un chemin étant défini comme la somme des poids des arêtes/arcs empruntés."
   ]
  },
  {
   "cell_type": "markdown",
   "metadata": {},
   "source": [
    "# Partie II : constructions et manipulations élémentaires sur les graphes\n",
    "\n",
    "NetworkX permet de construire des graphes de différents façons. Une première manière de faire est d'ajouter des sommets à un graphe, puis de relier les sommets par des arêtes, comme cela a été fait plus haut.\n",
    "\n",
    "On obtient les sommets avec la méthode `nodes` invoquée sur un objet de type `Graph`, qui retourne un objet itérable. On peut le transformer en liste pour voir le contenu."
   ]
  },
  {
   "cell_type": "code",
   "execution_count": 12,
   "metadata": {},
   "outputs": [
    {
     "data": {
      "text/plain": [
       "[1, 2, 3, 4]"
      ]
     },
     "execution_count": 12,
     "metadata": {},
     "output_type": "execute_result"
    }
   ],
   "source": [
    "list(g1.nodes())"
   ]
  },
  {
   "cell_type": "code",
   "execution_count": 13,
   "metadata": {},
   "outputs": [
    {
     "data": {
      "text/plain": [
       "[(1, 2), (1, 3), (1, 4), (2, 3), (2, 4)]"
      ]
     },
     "execution_count": 13,
     "metadata": {},
     "output_type": "execute_result"
    }
   ],
   "source": [
    "list(g1.edges())"
   ]
  },
  {
   "cell_type": "markdown",
   "metadata": {},
   "source": [
    "Une seconde manière est de créer le graphe directement à partir d'une liste d'arêtes, cela crée implicitement les sommets. Si les noms des sommets sont donnés par des chaînes de caractères, cela fonctionne aussi :"
   ]
  },
  {
   "cell_type": "code",
   "execution_count": 14,
   "metadata": {
    "collapsed": true
   },
   "outputs": [],
   "source": [
    "h = nx.Graph([('Paul','Jacques'),('Paul','Maryse')])"
   ]
  },
  {
   "cell_type": "markdown",
   "metadata": {},
   "source": [
    " mais les sommets de degré 0 ne peuvent être ajoutés directement, il faut le faire dans une seconde étape :"
   ]
  },
  {
   "cell_type": "code",
   "execution_count": 15,
   "metadata": {
    "collapsed": true
   },
   "outputs": [],
   "source": [
    "h.add_node('Séverine')"
   ]
  },
  {
   "cell_type": "code",
   "execution_count": 9,
   "metadata": {},
   "outputs": [
    {
     "ename": "NameError",
     "evalue": "name 'h' is not defined",
     "output_type": "error",
     "traceback": [
      "\u001b[1;31m---------------------------------------------------------------------------\u001b[0m",
      "\u001b[1;31mNameError\u001b[0m                                 Traceback (most recent call last)",
      "\u001b[1;32m<ipython-input-9-8c3c2237d46c>\u001b[0m in \u001b[0;36m<module>\u001b[1;34m()\u001b[0m\n\u001b[1;32m----> 1\u001b[1;33m \u001b[0mnx\u001b[0m\u001b[1;33m.\u001b[0m\u001b[0mdraw\u001b[0m\u001b[1;33m(\u001b[0m\u001b[0mh\u001b[0m\u001b[1;33m,\u001b[0m \u001b[0mwith_labels\u001b[0m\u001b[1;33m=\u001b[0m\u001b[1;32mTrue\u001b[0m\u001b[1;33m,\u001b[0m \u001b[0mfont_weight\u001b[0m\u001b[1;33m=\u001b[0m\u001b[1;34m'bold'\u001b[0m\u001b[1;33m,\u001b[0m \u001b[0mnode_size\u001b[0m\u001b[1;33m=\u001b[0m\u001b[1;36m2000\u001b[0m\u001b[1;33m,\u001b[0m \u001b[0mnode_color\u001b[0m\u001b[1;33m=\u001b[0m\u001b[1;34m'lightgrey'\u001b[0m\u001b[1;33m,\u001b[0m\u001b[0marrowsize\u001b[0m\u001b[1;33m=\u001b[0m\u001b[1;36m20\u001b[0m\u001b[1;33m,\u001b[0m \u001b[0mpos\u001b[0m\u001b[1;33m=\u001b[0m\u001b[0mnx\u001b[0m\u001b[1;33m.\u001b[0m\u001b[0mplanar_layout\u001b[0m\u001b[1;33m(\u001b[0m\u001b[0mh\u001b[0m\u001b[1;33m)\u001b[0m\u001b[1;33m)\u001b[0m\u001b[1;33m\u001b[0m\u001b[0m\n\u001b[0m",
      "\u001b[1;31mNameError\u001b[0m: name 'h' is not defined"
     ]
    }
   ],
   "source": [
    "nx.draw(h, with_labels=True, font_weight='bold', node_size=2000, node_color='lightgrey',arrowsize=20, pos=nx.planar_layout(h))"
   ]
  },
  {
   "cell_type": "markdown",
   "metadata": {},
   "source": [
    "Remarquez qu'ici on a demandé de dessiner les graphes en utilisant un agencement (_layout_) des sommets précalculé (voir la [documentation](https://networkx.github.io/documentation/stable/reference/drawing.html#module-networkx.drawing.layout)). Différents agencements sont disponibles. Certains algorithmes de calcul d'agencements introduisent de l'aléatoire qui font qu'on peut ne pas avoir toujours le même agencement en exécutant la même instruction deux fois de suite (le calcul d'agencement n'est pas déterministe).\n",
    "\n",
    "De plus certains agencements sont impossibles à réaliser pour certains graphes. Ici nous avons demandé un agencement planaire, qui calcule un agencement sans croisement, ce qui n'est pas toujours possible. D'ailleurs la fonction `check_planarity` permet d'obtenir cette information."
   ]
  },
  {
   "cell_type": "markdown",
   "metadata": {},
   "source": [
    "**À faire.** Créer le graphe suivant (qu'on nommera `g3`) :\n",
    "\n",
    "![](fig/graphe_g3.png)\n",
    "\n",
    "Puis le visualiser."
   ]
  },
  {
   "cell_type": "code",
   "execution_count": null,
   "metadata": {
    "collapsed": true,
    "scrolled": true
   },
   "outputs": [],
   "source": []
  },
  {
   "cell_type": "markdown",
   "metadata": {},
   "source": [
    "**À faire.** Vérifier grâce aux fonctions NetworkX que le graphe est bien celui attendu (i.e. tous les sommets et toutes les arêtes sont présentes)."
   ]
  },
  {
   "cell_type": "code",
   "execution_count": null,
   "metadata": {
    "collapsed": true
   },
   "outputs": [],
   "source": []
  },
  {
   "cell_type": "code",
   "execution_count": null,
   "metadata": {
    "collapsed": true
   },
   "outputs": [],
   "source": []
  },
  {
   "cell_type": "markdown",
   "metadata": {},
   "source": [
    "**À faire.** Écrire une fonction qui, pour un graphe donné en paramètre, permette d'obtenir la liste des sommets ayant le degré maximal. L'appliquer sur le graphe `g3`."
   ]
  },
  {
   "cell_type": "code",
   "execution_count": null,
   "metadata": {
    "collapsed": true
   },
   "outputs": [],
   "source": []
  },
  {
   "cell_type": "markdown",
   "metadata": {},
   "source": [
    "**À faire.** Créer le graphe (qu'on nommera `amis`) permettant de représenter les relations d'amitiés (asymétriques) suivantes : Henri, Jacqueline, Roger sont amis avec Marcel, Jaqueline et Roger sont amis réciproques, Marcel est ami avec Bernadette et Jean, Bernadette est amie avec Henri et Anatole, Anatole est ami réciproque avec Marcel. Puis le dessiner (le graphe construit ici est planaire).\n"
   ]
  },
  {
   "cell_type": "code",
   "execution_count": null,
   "metadata": {
    "collapsed": true
   },
   "outputs": [],
   "source": []
  },
  {
   "cell_type": "markdown",
   "metadata": {},
   "source": [
    "**À faire.** Qui a le plus d'amis ?"
   ]
  },
  {
   "cell_type": "code",
   "execution_count": null,
   "metadata": {
    "collapsed": true
   },
   "outputs": [],
   "source": []
  },
  {
   "cell_type": "markdown",
   "metadata": {},
   "source": [
    "**À faire.** Qui est ami avec le plus de monde ?"
   ]
  },
  {
   "cell_type": "code",
   "execution_count": null,
   "metadata": {
    "collapsed": true
   },
   "outputs": [],
   "source": []
  },
  {
   "cell_type": "markdown",
   "metadata": {},
   "source": [
    "# Partie III : parcours dans les graphes\n",
    "\n",
    "Lorsqu'on dispose d'un graphe, les opérations les plus courantes consistent à rechercher si deux sommets peuvent être reliés (par exemple si le graphe modélise des parcours possibles entre villes), le parcourir (par exemple si le graphe représente des solutions d'un jeu), chercher un cycle (par exemple pour réaliser une tournée), déterminer les composantes connexes (par exemple si le graphe modélise des relations d'amitiés)."
   ]
  },
  {
   "cell_type": "markdown",
   "metadata": {},
   "source": [
    "## Graphes non orientés \n",
    "\n",
    "Lorsqu'on passe de sommet en sommet en suivant les arêtes on construit\n",
    "une _chaîne_. Une chaîne peut emprunter plusieurs fois par le même\n",
    "sommet et/ou la même arête. La _longueur_ de la chaîne est le nombre de sommets empruntés.\n",
    "\n",
    "Une chaîne est :\n",
    "- _simple_ si elle n'emprunte pas deux fois la même arête,\n",
    "- _élémentaire_ si elle n'emprunte pas deux fois le même sommet,\n",
    "- un _cycle_ si le dernier et le dernier sommet de la chaîne sont identiques.\n",
    "\n",
    "Si il existe une chaîne reliant deux sommets $x$ et $y$ alors on dit que $x$ et $y$ sont reliés par une chaîne. Cela permet de définir les _composantes connexes d'un graphe_ qui sont les sous-graphes engendrés par les chaînes.\n",
    "\n",
    "Par exemple, dans le graphe `g3` :"
   ]
  },
  {
   "cell_type": "code",
   "execution_count": 17,
   "metadata": {},
   "outputs": [
    {
     "ename": "NameError",
     "evalue": "name 'g3' is not defined",
     "output_type": "error",
     "traceback": [
      "\u001b[0;31m---------------------------------------------------------------------------\u001b[0m",
      "\u001b[0;31mNameError\u001b[0m                                 Traceback (most recent call last)",
      "\u001b[0;32m<ipython-input-17-7dfabb3e7ac6>\u001b[0m in \u001b[0;36m<module>\u001b[0;34m\u001b[0m\n\u001b[0;32m----> 1\u001b[0;31m \u001b[0mlist\u001b[0m\u001b[0;34m(\u001b[0m\u001b[0mnx\u001b[0m\u001b[0;34m.\u001b[0m\u001b[0mconnected_components\u001b[0m\u001b[0;34m(\u001b[0m\u001b[0mg3\u001b[0m\u001b[0;34m)\u001b[0m\u001b[0;34m)\u001b[0m\u001b[0;34m\u001b[0m\u001b[0;34m\u001b[0m\u001b[0m\n\u001b[0m",
      "\u001b[0;31mNameError\u001b[0m: name 'g3' is not defined"
     ]
    }
   ],
   "source": [
    "list(nx.connected_components(g3))"
   ]
  },
  {
   "cell_type": "markdown",
   "metadata": {},
   "source": [
    "## Graphes orientés\n",
    "\n",
    "On retrouve les mêmes définitions que pour les graphes orientés sauf que :\n",
    "- une chaîne s'appelle un _chemin_,\n",
    "- un cycle s'appelle un _circuit_.\n",
    "\n",
    "On ne peut pas parler de composante connexe dans un graphe orienté à cause de la relation non symétrique entre les sommets. On parle de _composante fortement connexe_ pour désigner les ensembles de sommets tel que pour tout couple de sommets il existe un chemin.\n",
    "\n",
    "Par exemple sur le graphe `amis` :"
   ]
  },
  {
   "cell_type": "code",
   "execution_count": null,
   "metadata": {
    "collapsed": true
   },
   "outputs": [],
   "source": [
    "list(nx.strongly_connected_components(amis))"
   ]
  },
  {
   "cell_type": "markdown",
   "metadata": {},
   "source": [
    "## Parcours en profondeur\n",
    "\n",
    "Le parcours en largeur consiste à explorer les sommets du graphe, en\n",
    "passant de sommet en sommet en suivant l'un des successeurs et en marquant\n",
    "les sommets visités afin de ne pas les visiter à nouveaux. Lorsqu'il\n",
    "n'y a plus de sommets accessibles non encore visités, on revient au\n",
    "sommet précédent.\n",
    "\n",
    "C'est donc un procédure récursive dont l'implantation peut être\n",
    "réalisée à l'aide d'une pile.\n",
    "\n",
    "Dépendamment de l'ordre dans lequel on empile les successeurs, il peut\n",
    "y avoir plusieurs ordres pour lister les sommets lors du parcours en profondeur.\n",
    "\n",
    "C'est typiquement le parcours que l'on fait lorsqu'on explore un labyrinthe."
   ]
  },
  {
   "cell_type": "markdown",
   "metadata": {},
   "source": [
    "## Parcours en largeur\n",
    "\n",
    "Le parcours en largeur consiste à explorer les sommets du graphe, en\n",
    "explorant d'abord tous les successeurs d'un sommet avant d'explorer les successeurs des successeurs.\n",
    "\n",
    "Cette fois, c'est une file qui nous aidera à stocker les sommets à visiter avant de poursuivre.\n",
    "\n",
    "Dépendamment de l'ordre dans lequel on enfile les successeurs, il peut\n",
    "y avoir plusieurs ordres pour lister les sommets lors du parcours en largeur."
   ]
  },
  {
   "cell_type": "markdown",
   "metadata": {},
   "source": [
    "## Calcul des chaînes/chemins élémentaires\n",
    "\n",
    "**À faire.** Calculer à la main toutes les chaînes élémentaires entre 'a' et 'c' du graphe `g3`."
   ]
  },
  {
   "cell_type": "markdown",
   "metadata": {},
   "source": [
    "**À faire.** Avec NetworkX, cela peut être calculé avec la fonction [all_simple_paths](https://networkx.github.io/documentation/networkx-1.9/reference/generated/networkx.algorithms.simple_paths.all_simple_paths.html). Vérfier que le calcul fait à la main est correct."
   ]
  },
  {
   "cell_type": "code",
   "execution_count": null,
   "metadata": {
    "collapsed": true
   },
   "outputs": [],
   "source": []
  },
  {
   "cell_type": "markdown",
   "metadata": {},
   "source": [
    "**À faire.** Vérifier dans la documentation de la fonction `all_simple_paths` quel parcours a réalisé l'algorithme de calcul des chaînes élémentaires ?"
   ]
  },
  {
   "cell_type": "markdown",
   "metadata": {},
   "source": [
    "**À faire.** Écrire sa propre implantation du calcul de toutes les chaînes élémentaires d'un graphe non orienté entre deux sommets donnés dans une fonction `liste_chemins`. Appliquer sur `g3`."
   ]
  },
  {
   "cell_type": "code",
   "execution_count": null,
   "metadata": {
    "collapsed": true
   },
   "outputs": [],
   "source": [
    "def liste_chemins (G,source,but):\n",
    "    pass"
   ]
  },
  {
   "cell_type": "markdown",
   "metadata": {},
   "source": [
    "## Recherche de cycles/circuits"
   ]
  },
  {
   "cell_type": "markdown",
   "metadata": {},
   "source": [
    "**À faire.** NetworkX fournit deux fonctions permettant de calculer des cycles : `simple_cyles` et `find_cycle`. Expérimentez sur le graphe `amis`."
   ]
  },
  {
   "cell_type": "code",
   "execution_count": null,
   "metadata": {
    "collapsed": true
   },
   "outputs": [],
   "source": []
  },
  {
   "cell_type": "code",
   "execution_count": null,
   "metadata": {
    "collapsed": true
   },
   "outputs": [],
   "source": []
  },
  {
   "cell_type": "markdown",
   "metadata": {},
   "source": [
    "**À faire.** Quelles différences y a-t-il entre ce que calculent ces deux fonctions ? En particulier quelle raison peut faire que `find_cycle` ne trouve pas le cycle Anatole, Marcel, Bernadette ?"
   ]
  },
  {
   "cell_type": "markdown",
   "metadata": {},
   "source": [
    "# Partie IV : représentation des graphes\n",
    "\n",
    "Différentes représentations des graphes sont possibles. Nous allons traiter des représentations \n",
    "- par matrice d'adjacence,\n",
    "- par liste de successeurs et de prédecesseurs."
   ]
  },
  {
   "cell_type": "markdown",
   "metadata": {},
   "source": [
    "## Représentation par matrice d'adjacence\n",
    "\n",
    "La matrice d'adjacence est un tableau, de dimension $n \\times n$ si le graphe contient $n$ sommets, indicé par les sommets. On indique à la case d'intersection de la colonne $x$ et de la ligne $y$ le nombre d'arêtes entre les sommets $x$ et $y$ (on remarquera que ce nombre peut être plus grand que 1 si il y a deux arêtes qui rejoignent les mêmes sommets). Dans le cas d'un graphe non orienté, cette matrice est symétrique.\n",
    "\n",
    "Le graphe `g3`sera représenté par :\n",
    "\n",
    "|   | a | b | c | d | g |\n",
    "|---|---|---|---|---|---|\n",
    "| a | 0 | 1 | 0 | 0 | 0 |\n",
    "| b | 1 | 0 | 1 | 1 | 1 |\n",
    "| c | 0 | 1 | 1 | 1 | 0 |\n",
    "| d | 0 | 1 | 1 | 0 | 1 |\n",
    "| g | 0 | 1 | 0 | 1 | 0 |\n",
    "\n",
    "Dans le cas d'un graphe orienté la case $x,y$ indiquera le nombre d'arcs allant de $x$ à $y$ tandis que la case $y,x$ indiquera le nombre d'arcs allant de $y$ à $x$. La matrice n'est donc pas nécessairement symétrique."
   ]
  },
  {
   "cell_type": "markdown",
   "metadata": {},
   "source": [
    "Il est possible grâce à NetworkX de créer des graphes à partir de matrices d'adjacence. Pour cela il faut donner en entrée une matrice numpy."
   ]
  },
  {
   "cell_type": "code",
   "execution_count": null,
   "metadata": {
    "collapsed": true
   },
   "outputs": [],
   "source": [
    "import numpy as np\n",
    "# cree une matrice numpy a partir d'une liste de listes\n",
    "m = np.matrix([[0,1,0,0,0],[1,0,1,1,1],[0,1,1,1,0],[0,1,1,0,1],[0,1,0,1,0]])\n",
    "g3bis = nx.from_numpy_matrix(m)\n",
    "g3bis = nx.relabel_nodes(g3bis,{0:'a', 1:'b', 2:'c', 3: 'd', 4:'g'})\n",
    "nx.draw(g3bis, with_labels=True, font_weight='bold',node_size=800, node_color='lightgrey',arrowsize=20, pos=nx.planar_layout(g3bis))"
   ]
  },
  {
   "cell_type": "markdown",
   "metadata": {},
   "source": [
    "On aurait pu aussi créer un graphe orienté."
   ]
  },
  {
   "cell_type": "code",
   "execution_count": null,
   "metadata": {
    "collapsed": true
   },
   "outputs": [],
   "source": [
    "dg3bis = nx.from_numpy_matrix(m,create_using=nx.DiGraph)\n",
    "nx.draw(dg3bis, with_labels=True, font_weight='bold', node_size=2000, node_color='lightgrey',arrowsize=20, pos=nx.planar_layout(dg3bis))"
   ]
  },
  {
   "cell_type": "markdown",
   "metadata": {},
   "source": [
    "**À faire.** Quelle est la représentation sous forme de matrice d'adjacence du graphe `amis` ?"
   ]
  },
  {
   "cell_type": "code",
   "execution_count": null,
   "metadata": {
    "collapsed": true
   },
   "outputs": [],
   "source": []
  },
  {
   "cell_type": "markdown",
   "metadata": {},
   "source": [
    "**À faire.** Créer à nouveau le graphe `amis` mais à partir d'une matrice d'adjacences."
   ]
  },
  {
   "cell_type": "code",
   "execution_count": null,
   "metadata": {
    "collapsed": true
   },
   "outputs": [],
   "source": []
  },
  {
   "cell_type": "markdown",
   "metadata": {},
   "source": [
    "## Représentation par liste de successeurs et de prédecesseurs\n",
    "\n",
    "Dans le cas d'un graphe non orienté, la liste des voisins est suffisante.\n",
    "\n",
    "Le graphes `g3` sera représenté de la manière suivante :\n",
    "\n",
    "- à 'a' on associe la liste : 'b'\n",
    "- à 'b' on associe la liste : 'a', 'c', 'd', 'g'\n",
    "- à 'c' on associe la liste : 'c', 'b', 'd'\n",
    "- à 'd' on associe la liste : 'c', 'b', 'g'\n",
    "- à 'g' on associe la liste : 'b', 'd'\n",
    "\n",
    "Dans le cas d'un graphe orienté on aura besoin de la liste des successeurs ou des prédécesseurs."
   ]
  },
  {
   "cell_type": "markdown",
   "metadata": {},
   "source": [
    "NetworkX permet d'obtenir cette représentation sous la forme d'un dictionnaire Python."
   ]
  },
  {
   "cell_type": "code",
   "execution_count": null,
   "metadata": {
    "collapsed": true
   },
   "outputs": [],
   "source": [
    "nx.to_dict_of_lists(g3)"
   ]
  },
  {
   "cell_type": "markdown",
   "metadata": {},
   "source": [
    "**À faire.** Quelle est la représentation sous forme de liste de successeurs du graphe `amis` ?"
   ]
  },
  {
   "cell_type": "code",
   "execution_count": null,
   "metadata": {
    "collapsed": true
   },
   "outputs": [],
   "source": []
  },
  {
   "cell_type": "markdown",
   "metadata": {},
   "source": [
    "**À faire.** Recréer le graphe `amis` grâce à la fonction `from_dict_of_list` de NetworkX qui prend en entrée un dictionnaire comme celui ci-dessus donnant les successeurs."
   ]
  },
  {
   "cell_type": "code",
   "execution_count": null,
   "metadata": {
    "collapsed": true
   },
   "outputs": [],
   "source": []
  },
  {
   "cell_type": "markdown",
   "metadata": {},
   "source": [
    "# Partie V : applications"
   ]
  },
  {
   "cell_type": "markdown",
   "metadata": {},
   "source": [
    "## Réseau social\n",
    "\n",
    "On imagine disposer d'un graphe semblable au graphe `amis` utilisé avant indiquant des relations d'amitiés (asymétriques) dans un réseau social (typiquement Twitter).\n",
    "\n",
    "On se propose de trouver un moyen de répondre aux deux questions suivantes :\n",
    "\n",
    "1. calculer tous les amis des amis d'un membre quelconque du réseau\n",
    "    - formuler le problème sous forme d'un problème dans un graphe\n",
    "    - écrire le code Python permettant de répondre à la question (en utilisant NetworkX)\n",
    "1. calculer les cercles d'amis, c'est-à-dire les groupes de personnes qui sont amis entre-elles \n",
    "    - formuler le problème sous forme d'un problème dans un graphe\n",
    "    - écrire le code Python permettant de répondre à la question (en utilisant NetworkX)"
   ]
  },
  {
   "cell_type": "code",
   "execution_count": null,
   "metadata": {
    "collapsed": true
   },
   "outputs": [],
   "source": []
  },
  {
   "cell_type": "code",
   "execution_count": null,
   "metadata": {
    "collapsed": true
   },
   "outputs": [],
   "source": []
  },
  {
   "cell_type": "markdown",
   "metadata": {},
   "source": [
    "## Cartes\n",
    "\n",
    "On revient ici sur [l'exemple du voyageur de commerce](https://gitlab-fil.univ-lille.fr/diu-eil-lil/portail/blob/master/bloc2/tsp/Readme.md)  qui avait été traité au printemps dernier\n",
    "dans le bloc2 lors de la discussion sur les algorithmes gloutons. Pour rappel il s'agissait de trouver une tournée la plus courte entre différentes villes en France.\n",
    "\n",
    "De manière sous-jacente, la recherche de la tournée la plus courte revient à rechercher un cycle dans un graphe où les sommets sont les villes. Dans cet exemple, il y avait une route entre chaque couple de villes.\n",
    "\n",
    "Si on reprend les données :    "
   ]
  },
  {
   "cell_type": "code",
   "execution_count": 11,
   "metadata": {},
   "outputs": [
    {
     "ename": "NameError",
     "evalue": "name 'np' is not defined",
     "output_type": "error",
     "traceback": [
      "\u001b[1;31m---------------------------------------------------------------------------\u001b[0m",
      "\u001b[1;31mNameError\u001b[0m                                 Traceback (most recent call last)",
      "\u001b[1;32m<ipython-input-11-22ca68da9c1c>\u001b[0m in \u001b[0;36m<module>\u001b[1;34m()\u001b[0m\n\u001b[0;32m      1\u001b[0m \u001b[0mliste_des_villes\u001b[0m \u001b[1;33m=\u001b[0m \u001b[1;33m[\u001b[0m\u001b[1;33m[\u001b[0m\u001b[1;34m'Annecy'\u001b[0m\u001b[1;33m,\u001b[0m \u001b[1;36m6.082499981\u001b[0m\u001b[1;33m,\u001b[0m \u001b[1;36m45.8782196\u001b[0m\u001b[1;33m]\u001b[0m\u001b[1;33m,\u001b[0m \u001b[1;33m[\u001b[0m\u001b[1;34m'Auxerre'\u001b[0m\u001b[1;33m,\u001b[0m \u001b[1;36m3.537309885\u001b[0m\u001b[1;33m,\u001b[0m \u001b[1;36m47.76720047\u001b[0m\u001b[1;33m]\u001b[0m\u001b[1;33m,\u001b[0m \u001b[1;33m[\u001b[0m\u001b[1;34m'Bastia'\u001b[0m\u001b[1;33m,\u001b[0m \u001b[1;36m9.434300423\u001b[0m\u001b[1;33m,\u001b[0m \u001b[1;36m42.66175842\u001b[0m\u001b[1;33m]\u001b[0m\u001b[1;33m,\u001b[0m \u001b[1;33m[\u001b[0m\u001b[1;34m'Bordeaux'\u001b[0m\u001b[1;33m,\u001b[0m \u001b[1;33m-\u001b[0m\u001b[1;36m0.643329978\u001b[0m\u001b[1;33m,\u001b[0m \u001b[1;36m44.80820084\u001b[0m\u001b[1;33m]\u001b[0m\u001b[1;33m,\u001b[0m \u001b[1;33m[\u001b[0m\u001b[1;34m'Boulogne'\u001b[0m\u001b[1;33m,\u001b[0m \u001b[1;36m1.579570055\u001b[0m\u001b[1;33m,\u001b[0m \u001b[1;36m50.70875168\u001b[0m\u001b[1;33m]\u001b[0m\u001b[1;33m,\u001b[0m \u001b[1;33m[\u001b[0m\u001b[1;34m'Brest'\u001b[0m\u001b[1;33m,\u001b[0m \u001b[1;33m-\u001b[0m\u001b[1;36m4.552110195\u001b[0m\u001b[1;33m,\u001b[0m \u001b[1;36m48.36014938\u001b[0m\u001b[1;33m]\u001b[0m\u001b[1;33m,\u001b[0m \u001b[1;33m[\u001b[0m\u001b[1;34m'Caen'\u001b[0m\u001b[1;33m,\u001b[0m \u001b[1;33m-\u001b[0m\u001b[1;36m0.418989986\u001b[0m\u001b[1;33m,\u001b[0m \u001b[1;36m49.14748001\u001b[0m\u001b[1;33m]\u001b[0m\u001b[1;33m,\u001b[0m \u001b[1;33m[\u001b[0m\u001b[1;34m'Grenoble'\u001b[0m\u001b[1;33m,\u001b[0m \u001b[1;36m5.684440136\u001b[0m\u001b[1;33m,\u001b[0m \u001b[1;36m45.13940048\u001b[0m\u001b[1;33m]\u001b[0m\u001b[1;33m,\u001b[0m \u001b[1;33m[\u001b[0m\u001b[1;34m'Le Havre'\u001b[0m\u001b[1;33m,\u001b[0m \u001b[1;36m0.037500001\u001b[0m\u001b[1;33m,\u001b[0m \u001b[1;36m49.45898819\u001b[0m\u001b[1;33m]\u001b[0m\u001b[1;33m,\u001b[0m \u001b[1;33m[\u001b[0m\u001b[1;34m'Lens'\u001b[0m\u001b[1;33m,\u001b[0m \u001b[1;36m2.786649942\u001b[0m\u001b[1;33m,\u001b[0m \u001b[1;36m50.40549088\u001b[0m\u001b[1;33m]\u001b[0m\u001b[1;33m,\u001b[0m \u001b[1;33m[\u001b[0m\u001b[1;34m'Lille'\u001b[0m\u001b[1;33m,\u001b[0m \u001b[1;36m2.957109928\u001b[0m\u001b[1;33m,\u001b[0m \u001b[1;36m50.57350159\u001b[0m\u001b[1;33m]\u001b[0m\u001b[1;33m,\u001b[0m \u001b[1;33m[\u001b[0m\u001b[1;34m'Lyon'\u001b[0m\u001b[1;33m,\u001b[0m \u001b[1;36m4.768929958\u001b[0m\u001b[1;33m,\u001b[0m \u001b[1;36m45.70447922\u001b[0m\u001b[1;33m]\u001b[0m\u001b[1;33m,\u001b[0m \u001b[1;33m[\u001b[0m\u001b[1;34m'Paris'\u001b[0m\u001b[1;33m,\u001b[0m \u001b[1;36m2.086790085\u001b[0m\u001b[1;33m,\u001b[0m \u001b[1;36m48.65829086\u001b[0m\u001b[1;33m]\u001b[0m\u001b[1;33m,\u001b[0m \u001b[1;33m[\u001b[0m\u001b[1;34m'Lyon'\u001b[0m\u001b[1;33m,\u001b[0m \u001b[1;36m4.768929958\u001b[0m\u001b[1;33m,\u001b[0m \u001b[1;36m45.70447922\u001b[0m\u001b[1;33m]\u001b[0m\u001b[1;33m,\u001b[0m \u001b[1;33m[\u001b[0m\u001b[1;34m'Marseille'\u001b[0m\u001b[1;33m,\u001b[0m \u001b[1;36m5.290060043\u001b[0m\u001b[1;33m,\u001b[0m \u001b[1;36m43.1927681\u001b[0m\u001b[1;33m]\u001b[0m\u001b[1;33m,\u001b[0m \u001b[1;33m[\u001b[0m\u001b[1;34m'Metz'\u001b[0m\u001b[1;33m,\u001b[0m \u001b[1;36m6.11729002\u001b[0m\u001b[1;33m,\u001b[0m \u001b[1;36m49.0734787\u001b[0m\u001b[1;33m]\u001b[0m\u001b[1;33m,\u001b[0m \u001b[1;33m[\u001b[0m\u001b[1;34m'Nantes'\u001b[0m\u001b[1;33m,\u001b[0m \u001b[1;33m-\u001b[0m\u001b[1;36m1.650889993\u001b[0m\u001b[1;33m,\u001b[0m \u001b[1;36m47.16867065\u001b[0m\u001b[1;33m]\u001b[0m\u001b[1;33m,\u001b[0m \u001b[1;33m[\u001b[0m\u001b[1;34m'Nancy'\u001b[0m\u001b[1;33m,\u001b[0m \u001b[1;36m6.134119987\u001b[0m\u001b[1;33m,\u001b[0m \u001b[1;36m48.66695023\u001b[0m\u001b[1;33m]\u001b[0m\u001b[1;33m,\u001b[0m \u001b[1;33m[\u001b[0m\u001b[1;34m'Nice'\u001b[0m\u001b[1;33m,\u001b[0m \u001b[1;36m7.19904995\u001b[0m\u001b[1;33m,\u001b[0m \u001b[1;36m43.6578598\u001b[0m\u001b[1;33m]\u001b[0m\u001b[1;33m,\u001b[0m \u001b[1;33m[\u001b[0m\u001b[1;34m'Rennes'\u001b[0m\u001b[1;33m,\u001b[0m \u001b[1;33m-\u001b[0m\u001b[1;36m1.759150028\u001b[0m\u001b[1;33m,\u001b[0m \u001b[1;36m48.05683136\u001b[0m\u001b[1;33m]\u001b[0m\u001b[1;33m,\u001b[0m \u001b[1;33m[\u001b[0m\u001b[1;34m'Strasbourg'\u001b[0m\u001b[1;33m,\u001b[0m \u001b[1;36m7.687339783\u001b[0m\u001b[1;33m,\u001b[0m \u001b[1;36m48.49562836\u001b[0m\u001b[1;33m]\u001b[0m\u001b[1;33m,\u001b[0m \u001b[1;33m[\u001b[0m\u001b[1;34m'Saint-Etienne'\u001b[0m\u001b[1;33m,\u001b[0m \u001b[1;36m4.355700016\u001b[0m\u001b[1;33m,\u001b[0m \u001b[1;36m45.39992905\u001b[0m\u001b[1;33m]\u001b[0m\u001b[1;33m,\u001b[0m \u001b[1;33m[\u001b[0m\u001b[1;34m'Sedan'\u001b[0m\u001b[1;33m,\u001b[0m \u001b[1;36m4.896070004\u001b[0m\u001b[1;33m,\u001b[0m \u001b[1;36m49.68407059\u001b[0m\u001b[1;33m]\u001b[0m\u001b[1;33m,\u001b[0m \u001b[1;33m[\u001b[0m\u001b[1;34m'Toulouse'\u001b[0m\u001b[1;33m,\u001b[0m \u001b[1;36m1.356109977\u001b[0m\u001b[1;33m,\u001b[0m \u001b[1;36m43.5388298\u001b[0m\u001b[1;33m]\u001b[0m\u001b[1;33m]\u001b[0m\u001b[1;33m\u001b[0m\u001b[0m\n\u001b[0;32m      2\u001b[0m \u001b[1;33m\u001b[0m\u001b[0m\n\u001b[1;32m----> 3\u001b[1;33m matrice_distance = np.matrix([[   0.        ,  342.06521589,  505.26880816,  195.91738327,\n\u001b[0m\u001b[0;32m      4\u001b[0m          \u001b[1;36m571.22994001\u001b[0m\u001b[1;33m,\u001b[0m \u001b[1;36m1213.46095318\u001b[0m\u001b[1;33m,\u001b[0m  \u001b[1;36m760.81558275\u001b[0m\u001b[1;33m,\u001b[0m   \u001b[1;36m82.12092905\u001b[0m\u001b[1;33m,\u001b[0m\u001b[1;33m\u001b[0m\u001b[0m\n\u001b[0;32m      5\u001b[0m          \u001b[1;36m698.84015349\u001b[0m\u001b[1;33m,\u001b[0m  \u001b[1;36m538.57470424\u001b[0m\u001b[1;33m,\u001b[0m  \u001b[1;36m544.82697629\u001b[0m\u001b[1;33m,\u001b[0m   \u001b[1;36m39.48967066\u001b[0m\u001b[1;33m,\u001b[0m\u001b[1;33m\u001b[0m\u001b[0m\n",
      "\u001b[1;31mNameError\u001b[0m: name 'np' is not defined"
     ]
    }
   ],
   "source": [
    "liste_des_villes = [['Annecy', 6.082499981, 45.8782196], ['Auxerre', 3.537309885, 47.76720047], ['Bastia', 9.434300423, 42.66175842], ['Bordeaux', -0.643329978, 44.80820084], ['Boulogne', 1.579570055, 50.70875168], ['Brest', -4.552110195, 48.36014938], ['Caen', -0.418989986, 49.14748001], ['Grenoble', 5.684440136, 45.13940048], ['Le Havre', 0.037500001, 49.45898819], ['Lens', 2.786649942, 50.40549088], ['Lille', 2.957109928, 50.57350159], ['Lyon', 4.768929958, 45.70447922], ['Paris', 2.086790085, 48.65829086], ['Lyon', 4.768929958, 45.70447922], ['Marseille', 5.290060043, 43.1927681], ['Metz', 6.11729002, 49.0734787], ['Nantes', -1.650889993, 47.16867065], ['Nancy', 6.134119987, 48.66695023], ['Nice', 7.19904995, 43.6578598], ['Rennes', -1.759150028, 48.05683136], ['Strasbourg', 7.687339783, 48.49562836], ['Saint-Etienne', 4.355700016, 45.39992905], ['Sedan', 4.896070004, 49.68407059], ['Toulouse', 1.356109977, 43.5388298]]\n",
    "\n",
    "matrice_distance = np.matrix([[   0.        ,  342.06521589,  505.26880816,  195.91738327,\n",
    "         571.22994001, 1213.46095318,  760.81558275,   82.12092905,\n",
    "         698.84015349,  538.57470424,  544.82697629,   39.48967066,\n",
    "         537.11380375,   39.48967066,  307.66916206,  355.07573536,\n",
    "         723.37834596,  309.93566554,  261.84998812,  894.12998434,\n",
    "         340.97945879,   55.64343688,  435.59490231,  470.9291439 ],\n",
    "       [ 342.06521589,    0.        ,  607.64134221,  452.85138969,\n",
    "         345.67065405,  534.39173537,  184.95659496,  346.70626305,\n",
    "         190.64471485,  294.89087001,  313.23065597,  261.88811145,\n",
    "         124.03947834,  261.88811145,  508.50996942,  164.62689923,\n",
    "         546.78779058,  166.09897218,  461.17669088,  416.27166437,\n",
    "         259.19691   ,  274.36745728,  213.05384296,  470.47822801],\n",
    "       [ 505.26880816,  607.64134221,    0.        , 1111.64185359,\n",
    "        1193.29859417,  636.58110398,  813.34684152,  498.26475461,\n",
    "         909.83714109, 1056.90810605, 1081.26512838,  610.2276268 ,\n",
    "         672.00817298,  610.2276268 ,  234.66138648,  721.53746266,\n",
    "         888.17802791,  668.5379917 ,  202.01990047,  645.5866113 ,\n",
    "         648.27867126,  640.54701568,  833.4923966 ,  578.814938  ],\n",
    "       [ 195.91738327,  452.85138969, 1111.64185359,    0.        ,\n",
    "         685.17981421,  542.78535782,  482.81104513,  386.67790066,\n",
    "         522.30311255,  707.66213428,  724.09573394,  202.10574527,\n",
    "         511.58675279,  202.10574527,  683.21268132,  877.66598556,\n",
    "         266.51119969,  818.84938946,  853.81852379,  373.41122124,\n",
    "         920.70114652,  249.93801147,  816.58291793,  259.76092146],\n",
    "       [ 571.22994001,  345.67065405, 1193.29859417,  685.17981421,\n",
    "           0.        ,  570.45477228,  272.0554744 ,  695.66364473,\n",
    "         218.38159471,  132.81311953,  143.18962673,  580.37681784,\n",
    "         232.66129696,  580.37681784,  928.6945204 ,  503.25842863,\n",
    "         402.82147412,  480.87939751, 1001.20465157,  377.29307774,\n",
    "         588.62492472,  618.03858451,  384.87886229,  797.10856902],\n",
    "       [1213.46095318,  534.39173537,  636.58110398,  542.78535782,\n",
    "         570.45477228,    0.        ,   91.60118453, 1117.6572761 ,\n",
    "         163.5093338 ,  565.58554503,  631.9745824 , 1072.79906631,\n",
    "         140.01387446, 1072.79906631,  623.21327423,   83.49311813,\n",
    "         290.41712438,  216.61630938,  776.88543793,  148.88298607,\n",
    "         358.88344015, 1015.31352829,  368.30433851,  592.68468826],\n",
    "       [ 760.81558275,  184.95659496,  813.34684152,  482.81104513,\n",
    "         272.0554744 ,   91.60118453,    0.        ,  811.26979349,\n",
    "          45.15629092,  344.13536353,  379.47277862,  670.28859124,\n",
    "          79.16617229,  670.28859124,  756.68309655,  293.48381023,\n",
    "         230.75289055,  162.61398066,  881.05991328,  121.97150118,\n",
    "         135.04281536,  669.80513178,  394.45479713,  638.79157241],\n",
    "       [  82.12092905,  346.70626305,  498.26475461,  386.67790066,\n",
    "         695.66364473, 1117.6572761 ,  811.26979349,    0.        ,\n",
    "         782.40474064,  638.96513241,  644.50469206,   64.18552319,\n",
    "         552.04574869,   64.18552319,  220.55902343,  439.79203559,\n",
    "         513.08124991,  395.0019419 ,  225.37979312,  785.43981696,\n",
    "         429.08660926,   50.42787433,  511.94207766,  484.49521702],\n",
    "       [ 698.84015349,  190.64471485,  909.83714109,  522.30311255,\n",
    "         218.38159471,  163.5093338 ,   45.15629092,  782.40474064,\n",
    "           0.        ,  307.2423166 ,  337.91486247,  629.65896588,\n",
    "         120.36250646,  629.65896588,  806.76675468,  367.94980178,\n",
    "         263.88223077,  259.28790801,  931.13387706,  156.31742381,\n",
    "         260.10700652,  642.53147959,  415.77482861,  668.49374325],\n",
    "       [ 538.57470424,  294.89087001, 1056.90810605,  707.66213428,\n",
    "         132.81311953,  565.58554503,  344.13536353,  638.96513241,\n",
    "         307.2423166 ,    0.        ,   26.26062307,  538.67175866,\n",
    "         202.55988876,  538.67175866,  843.72475041,  352.63842367,\n",
    "         362.54134887,  338.0134284 ,  894.73828588,  367.10646956,\n",
    "         429.60895128,  569.89289609,  242.35517229,  779.03541928],\n",
    "       [ 544.82697629,  313.23065597, 1081.26512838,  724.09573394,\n",
    "         143.18962673,  631.9745824 ,  379.47277862,  644.50469206,\n",
    "         337.91486247,   26.26062307,    0.        ,  551.37165933,\n",
    "         226.32423907,  551.37165933,  857.91879049,  358.516729  ,\n",
    "         388.86881477,  352.7546585 ,  901.50406138,  413.58515256,\n",
    "         454.39375666,  583.70303081,  235.21873863,  801.59098096],\n",
    "       [  39.48967066,  261.88811145,  610.2276268 ,  202.10574527,\n",
    "         580.37681784, 1072.79906631,  670.28859124,   64.18552319,\n",
    "         629.65896588,  538.67175866,  551.37165933,    0.        ,\n",
    "         443.02086191,    0.        ,  283.85387729,  401.3176434 ,\n",
    "         574.90440167,  362.34089521,  307.33917394,  751.00548027,\n",
    "         448.66605923,   33.84163953,  442.37204483,  387.9761083 ],\n",
    "       [ 537.11380375,  124.03947834,  672.00817298,  511.58675279,\n",
    "         232.66129696,  140.01387446,   79.16617229,  552.04574869,\n",
    "         120.36250646,  202.55988876,  226.32423907,  443.02086191,\n",
    "           0.        ,  443.02086191,  620.98701132,   89.16435328,\n",
    "         336.04424088,   14.45075428,  642.75357268,  156.36360696,\n",
    "          75.29761812,  440.55635684,  183.01159125,  570.43201017],\n",
    "       [  39.48967066,  261.88811145,  610.2276268 ,  202.10574527,\n",
    "         580.37681784, 1072.79906631,  670.28859124,   64.18552319,\n",
    "         629.65896588,  538.67175866,  551.37165933,    0.        ,\n",
    "         443.02086191,    0.        ,  283.85387729,  401.3176434 ,\n",
    "         574.90440167,  362.34089521,  307.33917394,  751.00548027,\n",
    "         448.66605923,   33.84163953,  442.37204483,  387.9761083 ],\n",
    "       [ 307.66916206,  508.50996942,  234.66138648,  683.21268132,\n",
    "         928.6945204 ,  623.21327423,  756.68309655,  220.55902343,\n",
    "         806.76675468,  843.72475041,  857.91879049,  283.85387729,\n",
    "         620.98701132,  283.85387729,    0.        ,  655.40357087,\n",
    "         523.3857741 ,  609.26911062,  187.33457472,  543.40038888,\n",
    "         594.19317496,  264.39267634,  722.10928779,  358.73352398],\n",
    "       [ 355.07573536,  164.62689923,  721.53746266,  877.66598556,\n",
    "         503.25842863,   83.49311813,  293.48381023,  439.79203559,\n",
    "         367.94980178,  352.63842367,  358.516729  ,  401.3176434 ,\n",
    "          89.16435328,  401.3176434 ,  655.40357087,    0.        ,\n",
    "         514.03252381,   45.17462407,  608.07944544,  159.8221247 ,\n",
    "          66.09217721,  452.17565546,  109.35316403,  713.5445675 ],\n",
    "       [ 723.37834596,  546.78779058,  888.17802791,  266.51119969,\n",
    "         402.82147412,  290.41712438,  230.75289055,  513.08124991,\n",
    "         263.88223077,  362.54134887,  388.86881477,  574.90440167,\n",
    "         336.04424088,  574.90440167,  523.3857741 ,  514.03252381,\n",
    "           0.        ,  628.89935141,  413.4974329 ,   99.26225009,\n",
    "         801.77605272,  487.11441595,  339.59322338,  408.73919057],\n",
    "       [ 309.93566554,  166.09897218,  668.5379917 ,  818.84938946,\n",
    "         480.87939751,  216.61630938,  162.61398066,  395.0019419 ,\n",
    "         259.28790801,  338.0134284 ,  352.7546585 ,  362.34089521,\n",
    "          14.45075428,  362.34089521,  609.26911062,   45.17462407,\n",
    "         628.89935141,    0.        ,  560.7149955 ,  294.44789472,\n",
    "          27.27317957,  412.9479955 ,  129.70216676,  633.77875056],\n",
    "       [ 261.84998812,  461.17669088,  202.01990047,  853.81852379,\n",
    "        1001.20465157,  776.88543793,  881.05991328,  225.37979312,\n",
    "         931.13387706,  894.73828588,  901.50406138,  307.33917394,\n",
    "         642.75357268,  307.33917394,  187.33457472,  608.07944544,\n",
    "         413.4974329 ,  560.7149955 ,    0.        ,  572.5987774 ,\n",
    "         538.2570914 ,  332.1573531 ,  708.06478229,  602.1405042 ],\n",
    "       [ 894.12998434,  416.27166437,  645.5866113 ,  373.41122124,\n",
    "         377.29307774,  148.88298607,  121.97150118,  785.43981696,\n",
    "         156.31742381,  367.10646956,  413.58515256,  751.00548027,\n",
    "         156.36360696,  751.00548027,  543.40038888,  159.8221247 ,\n",
    "          99.26225009,  294.44789472,  572.5987774 ,    0.        ,\n",
    "         429.32139686,  693.05536696,  222.30106606,  508.99884662],\n",
    "       [ 340.97945879,  259.19691   ,  648.27867126,  920.70114652,\n",
    "         588.62492472,  358.88344015,  135.04281536,  429.08660926,\n",
    "         260.10700652,  429.60895128,  454.39375666,  448.66605923,\n",
    "          75.29761812,  448.66605923,  594.19317496,   66.09217721,\n",
    "         801.77605272,   27.27317957,  538.2570914 ,  429.32139686,\n",
    "           0.        ,  501.18027062,  178.03481783,  634.47866454],\n",
    "       [  55.64343688,  274.36745728,  640.54701568,  249.93801147,\n",
    "         618.03858451, 1015.31352829,  669.80513178,   50.42787433,\n",
    "         642.53147959,  569.89289609,  583.70303081,   33.84163953,\n",
    "         440.55635684,   33.84163953,  264.39267634,  452.17565546,\n",
    "         487.11441595,  412.9479955 ,  332.1573531 ,  693.05536696,\n",
    "         501.18027062,    0.        ,  479.20592864,  359.90079671],\n",
    "       [ 435.59490231,  213.05384296,  833.4923966 ,  816.58291793,\n",
    "         384.87886229,  368.30433851,  394.45479713,  511.94207766,\n",
    "         415.77482861,  242.35517229,  235.21873863,  442.37204483,\n",
    "         183.01159125,  442.37204483,  722.10928779,  109.35316403,\n",
    "         339.59322338,  129.70216676,  708.06478229,  222.30106606,\n",
    "         178.03481783,  479.20592864,    0.        ,  764.08867343],\n",
    "       [ 470.9291439 ,  470.47822801,  578.814938  ,  259.76092146,\n",
    "         797.10856902,  592.68468826,  638.79157241,  484.49521702,\n",
    "         668.49374325,  779.03541928,  801.59098096,  387.9761083 ,\n",
    "         570.43201017,  387.9761083 ,  358.73352398,  713.5445675 ,\n",
    "         408.73919057,  633.77875056,  602.1405042 ,  508.99884662,\n",
    "         634.47866454,  359.90079671,  764.08867343,    0.        ]])"
   ]
  },
  {
   "cell_type": "markdown",
   "metadata": {},
   "source": [
    "On se donne aussi deux dictonnaires pour faciliter la suite."
   ]
  },
  {
   "cell_type": "code",
   "execution_count": null,
   "metadata": {
    "collapsed": true
   },
   "outputs": [],
   "source": [
    "nombre_de_villes = len(liste_des_villes)\n",
    "\n",
    "# correspondance entre les numéros des villes et leurs noms\n",
    "mapping_des_noms_des_villes = { i : liste_des_villes[i][0] for i in range(nombre_de_villes) }\n",
    "\n",
    "# correspondance entre les noms des villes et leurs numéros\n",
    "mapping_des_numeros_des_villes = { liste_des_villes[i][0] : i for i in range(nombre_de_villes) }"
   ]
  },
  {
   "cell_type": "markdown",
   "metadata": {},
   "source": [
    "On rappelle l'accès aux éléments d'un tableau à deux dimensions `numpy`."
   ]
  },
  {
   "cell_type": "code",
   "execution_count": null,
   "metadata": {
    "collapsed": true
   },
   "outputs": [],
   "source": [
    "matrice_distance[1,2]"
   ]
  },
  {
   "cell_type": "code",
   "execution_count": null,
   "metadata": {
    "collapsed": true
   },
   "outputs": [],
   "source": [
    "matrice_distance[mapping_des_numeros_des_villes['Lille'],mapping_des_numeros_des_villes['Boulogne']]"
   ]
  },
  {
   "cell_type": "markdown",
   "metadata": {},
   "source": [
    "Et qu'on construit la matrice d'adjacence :"
   ]
  },
  {
   "cell_type": "code",
   "execution_count": null,
   "metadata": {
    "collapsed": true
   },
   "outputs": [],
   "source": [
    "matrice_adjacence = np.matrix([ [ 1 for i in range(nombre_de_villes)] for j in range(nombre_de_villes) ])"
   ]
  },
  {
   "cell_type": "markdown",
   "metadata": {},
   "source": [
    "Alors on peut créer le graphe :"
   ]
  },
  {
   "cell_type": "code",
   "execution_count": null,
   "metadata": {
    "collapsed": true
   },
   "outputs": [],
   "source": [
    "villes = nx.from_numpy_matrix(matrice_adjacence,create_using=nx.Graph)\n",
    "villes = nx.relabel_nodes(villes,mapping_des_noms_des_villes)"
   ]
  },
  {
   "cell_type": "code",
   "execution_count": null,
   "metadata": {
    "collapsed": true
   },
   "outputs": [],
   "source": [
    "nx.draw(villes, with_labels=True, font_weight='bold', node_size=2000, node_color='lightgrey',arrowsize=20, pos=nx.spring_layout(villes))"
   ]
  },
  {
   "cell_type": "markdown",
   "metadata": {},
   "source": [
    "où l'on constate que bien évidemment toutes les villes sont connectées. Ce n'est donc pas très utile ainsi."
   ]
  },
  {
   "cell_type": "markdown",
   "metadata": {},
   "source": [
    "On va donc ajouter un poids aux chemins correspondant aux distances qui séparent les villes."
   ]
  },
  {
   "cell_type": "code",
   "execution_count": null,
   "metadata": {
    "collapsed": true
   },
   "outputs": [],
   "source": [
    "for e in villes.edges():\n",
    "    villes[e[0]][e[1]]['weight'] = matrice_distance[mapping_des_numeros_des_villes[e[0]],mapping_des_numeros_des_villes[e[1]]]"
   ]
  },
  {
   "cell_type": "markdown",
   "metadata": {},
   "source": [
    "On peut maintenant utiliser des algorithmes qui recherchent des chemins les plus courts."
   ]
  },
  {
   "cell_type": "code",
   "execution_count": null,
   "metadata": {
    "collapsed": true
   },
   "outputs": [],
   "source": [
    "list(nx.shortest_path(villes,'Lille','Marseille'))"
   ]
  },
  {
   "cell_type": "markdown",
   "metadata": {},
   "source": [
    "Mais cela n'a que peu d'intérêt puisque dans nos données toutes les villes sont reliées.\n",
    "\n",
    "On fournit maintenant la liste des villes qui ont une connexion (on supposera également que la ville n'est pas connectée à elle-même) :\n",
    "\n",
    "- Lille est relié à Lens, Boulogne, Paris\n",
    "- Boulogne est reliée au Havre\n",
    "- Le Havre est relié à Caen, Paris\n",
    "- Caen est relié à Paris, Rennes, Brest\n",
    "- Rennes est relié à Nantes, Paris\n",
    "- Paris est relié à Bordeaux, Auxerre, Strasbourg\n",
    "- Strasbourg est relié à Nancy\n",
    "- Nancy est relié à Metz, Sedan\n",
    "- Lyon est relié à Auxerre, Saint-Etienne, Annecy, Grenoble, Marseille\n",
    "- Bordeaux est relié à Toulouse\n",
    "- Toulouse est relié à Marseille\n",
    "- Marseille est relié à Nice"
   ]
  },
  {
   "cell_type": "markdown",
   "metadata": {},
   "source": [
    "**À faire.** Recréer un graphe qui modélise les relations entre ces villes. Avec des poids sur les arêtes correspondant aux distances, comme vu plus haut."
   ]
  },
  {
   "cell_type": "code",
   "execution_count": 12,
   "metadata": {},
   "outputs": [
    {
     "data": {
      "text/plain": [
       "123456789"
      ]
     },
     "execution_count": 12,
     "metadata": {},
     "output_type": "execute_result"
    }
   ],
   "source": []
  },
  {
   "cell_type": "markdown",
   "metadata": {},
   "source": [
    "**À faire.** Dessiner le graphe."
   ]
  },
  {
   "cell_type": "code",
   "execution_count": null,
   "metadata": {
    "collapsed": true
   },
   "outputs": [],
   "source": []
  },
  {
   "cell_type": "markdown",
   "metadata": {},
   "source": [
    "**À faire.** Vérifier que toutes les villes sont connectées entre-elles grâce au prédicat `is_connected`."
   ]
  },
  {
   "cell_type": "code",
   "execution_count": null,
   "metadata": {
    "collapsed": true
   },
   "outputs": [],
   "source": []
  },
  {
   "cell_type": "markdown",
   "metadata": {},
   "source": [
    "**À faire.** Rechercher le chemin le plus court entre Lille et Marseille."
   ]
  },
  {
   "cell_type": "code",
   "execution_count": null,
   "metadata": {
    "collapsed": true
   },
   "outputs": [],
   "source": []
  },
  {
   "cell_type": "markdown",
   "metadata": {},
   "source": [
    "**À faire.** Calculer sa longueur."
   ]
  },
  {
   "cell_type": "code",
   "execution_count": null,
   "metadata": {
    "collapsed": true
   },
   "outputs": [],
   "source": []
  },
  {
   "cell_type": "code",
   "execution_count": null,
   "metadata": {
    "collapsed": true
   },
   "outputs": [],
   "source": []
  }
 ],
 "metadata": {
  "jupytext": {
   "formats": "ipynb,md"
  },
  "kernelspec": {
   "display_name": "Python 3",
   "language": "python",
   "name": "python3"
  },
  "language_info": {
   "codemirror_mode": {
    "name": "ipython",
    "version": 3
   },
   "file_extension": ".py",
   "mimetype": "text/x-python",
   "name": "python",
   "nbconvert_exporter": "python",
   "pygments_lexer": "ipython3",
   "version": "3.4.5"
  },
  "toc-autonumbering": true
 },
 "nbformat": 4,
 "nbformat_minor": 4
}
